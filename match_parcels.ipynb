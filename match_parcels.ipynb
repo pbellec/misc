{
 "cells": [
  {
   "cell_type": "code",
   "execution_count": 1,
   "id": "9e669e3b",
   "metadata": {},
   "outputs": [],
   "source": [
    "from nilearn.plotting import plot_roi, plot_stat_map\n",
    "from nilearn import datasets"
   ]
  },
  {
   "cell_type": "code",
   "execution_count": 2,
   "id": "382cf5f0",
   "metadata": {},
   "outputs": [],
   "source": [
    "mist = datasets.fetch_atlas_basc_multiscale_2015()['scale064']"
   ]
  },
  {
   "cell_type": "code",
   "execution_count": 3,
   "id": "02e1185a",
   "metadata": {},
   "outputs": [],
   "source": [
    "yeo = datasets.fetch_atlas_yeo_2011()['thick_7']"
   ]
  },
  {
   "cell_type": "code",
   "execution_count": 4,
   "id": "c43304d9",
   "metadata": {},
   "outputs": [
    {
     "data": {
      "text/html": [
       "<style>#sk-container-id-1 {color: black;background-color: white;}#sk-container-id-1 pre{padding: 0;}#sk-container-id-1 div.sk-toggleable {background-color: white;}#sk-container-id-1 label.sk-toggleable__label {cursor: pointer;display: block;width: 100%;margin-bottom: 0;padding: 0.3em;box-sizing: border-box;text-align: center;}#sk-container-id-1 label.sk-toggleable__label-arrow:before {content: \"▸\";float: left;margin-right: 0.25em;color: #696969;}#sk-container-id-1 label.sk-toggleable__label-arrow:hover:before {color: black;}#sk-container-id-1 div.sk-estimator:hover label.sk-toggleable__label-arrow:before {color: black;}#sk-container-id-1 div.sk-toggleable__content {max-height: 0;max-width: 0;overflow: hidden;text-align: left;background-color: #f0f8ff;}#sk-container-id-1 div.sk-toggleable__content pre {margin: 0.2em;color: black;border-radius: 0.25em;background-color: #f0f8ff;}#sk-container-id-1 input.sk-toggleable__control:checked~div.sk-toggleable__content {max-height: 200px;max-width: 100%;overflow: auto;}#sk-container-id-1 input.sk-toggleable__control:checked~label.sk-toggleable__label-arrow:before {content: \"▾\";}#sk-container-id-1 div.sk-estimator input.sk-toggleable__control:checked~label.sk-toggleable__label {background-color: #d4ebff;}#sk-container-id-1 div.sk-label input.sk-toggleable__control:checked~label.sk-toggleable__label {background-color: #d4ebff;}#sk-container-id-1 input.sk-hidden--visually {border: 0;clip: rect(1px 1px 1px 1px);clip: rect(1px, 1px, 1px, 1px);height: 1px;margin: -1px;overflow: hidden;padding: 0;position: absolute;width: 1px;}#sk-container-id-1 div.sk-estimator {font-family: monospace;background-color: #f0f8ff;border: 1px dotted black;border-radius: 0.25em;box-sizing: border-box;margin-bottom: 0.5em;}#sk-container-id-1 div.sk-estimator:hover {background-color: #d4ebff;}#sk-container-id-1 div.sk-parallel-item::after {content: \"\";width: 100%;border-bottom: 1px solid gray;flex-grow: 1;}#sk-container-id-1 div.sk-label:hover label.sk-toggleable__label {background-color: #d4ebff;}#sk-container-id-1 div.sk-serial::before {content: \"\";position: absolute;border-left: 1px solid gray;box-sizing: border-box;top: 0;bottom: 0;left: 50%;z-index: 0;}#sk-container-id-1 div.sk-serial {display: flex;flex-direction: column;align-items: center;background-color: white;padding-right: 0.2em;padding-left: 0.2em;position: relative;}#sk-container-id-1 div.sk-item {position: relative;z-index: 1;}#sk-container-id-1 div.sk-parallel {display: flex;align-items: stretch;justify-content: center;background-color: white;position: relative;}#sk-container-id-1 div.sk-item::before, #sk-container-id-1 div.sk-parallel-item::before {content: \"\";position: absolute;border-left: 1px solid gray;box-sizing: border-box;top: 0;bottom: 0;left: 50%;z-index: -1;}#sk-container-id-1 div.sk-parallel-item {display: flex;flex-direction: column;z-index: 1;position: relative;background-color: white;}#sk-container-id-1 div.sk-parallel-item:first-child::after {align-self: flex-end;width: 50%;}#sk-container-id-1 div.sk-parallel-item:last-child::after {align-self: flex-start;width: 50%;}#sk-container-id-1 div.sk-parallel-item:only-child::after {width: 0;}#sk-container-id-1 div.sk-dashed-wrapped {border: 1px dashed gray;margin: 0 0.4em 0.5em 0.4em;box-sizing: border-box;padding-bottom: 0.4em;background-color: white;}#sk-container-id-1 div.sk-label label {font-family: monospace;font-weight: bold;display: inline-block;line-height: 1.2em;}#sk-container-id-1 div.sk-label-container {text-align: center;}#sk-container-id-1 div.sk-container {/* jupyter's `normalize.less` sets `[hidden] { display: none; }` but bootstrap.min.css set `[hidden] { display: none !important; }` so we also need the `!important` here to be able to override the default hidden behavior on the sphinx rendered scikit-learn.org. See: https://github.com/scikit-learn/scikit-learn/issues/21755 */display: inline-block !important;position: relative;}#sk-container-id-1 div.sk-text-repr-fallback {display: none;}</style><div id=\"sk-container-id-1\" class=\"sk-top-container\"><div class=\"sk-text-repr-fallback\"><pre>NiftiMasker()</pre><b>In a Jupyter environment, please rerun this cell to show the HTML representation or trust the notebook. <br />On GitHub, the HTML representation is unable to render, please try loading this page with nbviewer.org.</b></div><div class=\"sk-container\" hidden><div class=\"sk-item\"><div class=\"sk-estimator sk-toggleable\"><input class=\"sk-toggleable__control sk-hidden--visually\" id=\"sk-estimator-id-1\" type=\"checkbox\" checked><label for=\"sk-estimator-id-1\" class=\"sk-toggleable__label sk-toggleable__label-arrow\">NiftiMasker</label><div class=\"sk-toggleable__content\"><pre>NiftiMasker()</pre></div></div></div></div></div>"
      ],
      "text/plain": [
       "NiftiMasker()"
      ]
     },
     "execution_count": 4,
     "metadata": {},
     "output_type": "execute_result"
    }
   ],
   "source": [
    "from nilearn.maskers import NiftiMasker\n",
    "masker = NiftiMasker(standardize=False, detrend=False)\n",
    "masker.fit(mist)\n"
   ]
  },
  {
   "cell_type": "code",
   "execution_count": 8,
   "id": "63ce8841",
   "metadata": {},
   "outputs": [],
   "source": [
    "mist_vec = masker.transform(mist)"
   ]
  },
  {
   "cell_type": "code",
   "execution_count": 9,
   "id": "f4688f9f",
   "metadata": {},
   "outputs": [
    {
     "data": {
      "text/plain": [
       "array([ 1.,  2.,  3.,  4.,  5.,  6.,  7.,  8.,  9., 10., 11., 12., 13.,\n",
       "       14., 15., 16., 17., 18., 19., 20., 21., 22., 23., 24., 25., 26.,\n",
       "       27., 28., 29., 30., 31., 32., 33., 34., 35., 36., 37., 38., 39.,\n",
       "       40., 41., 42., 43., 44., 45., 46., 47., 48., 49., 50., 51., 52.,\n",
       "       53., 54., 55., 56., 57., 58., 59., 60., 61., 62., 63., 64.],\n",
       "      dtype=float32)"
      ]
     },
     "execution_count": 9,
     "metadata": {},
     "output_type": "execute_result"
    }
   ],
   "source": [
    "import numpy as np\n",
    "np.unique(mist_vec)"
   ]
  },
  {
   "cell_type": "code",
   "execution_count": 11,
   "id": "bd3946e9",
   "metadata": {},
   "outputs": [
    {
     "data": {
      "text/plain": [
       "array([0., 1., 2., 3., 4., 5., 6., 7.], dtype=float32)"
      ]
     },
     "execution_count": 11,
     "metadata": {},
     "output_type": "execute_result"
    }
   ],
   "source": [
    "yeo_vec = masker.transform(yeo)\n",
    "yeo_vec = np.round(yeo_vec)\n",
    "np.unique(yeo_vec)"
   ]
  },
  {
   "cell_type": "code",
   "execution_count": 14,
   "id": "7121b8bf",
   "metadata": {},
   "outputs": [],
   "source": [
    "match = []\n",
    "best_overlap = []\n",
    "for roi in np.unique(mist_vec):\n",
    "    overlap = []\n",
    "    for roi2 in np.unique(yeo_vec):\n",
    "        overlap.append(np.sum(yeo_vec[mist_vec == roi] == roi2) / np.sum(mist_vec == roi))\n",
    "    best_overlap.append(np.max(overlap))\n",
    "    match.append(np.argmax(overlap))"
   ]
  },
  {
   "cell_type": "code",
   "execution_count": 17,
   "id": "6d50ee68",
   "metadata": {},
   "outputs": [
    {
     "name": "stdout",
     "output_type": "stream",
     "text": [
      "roi 1 in MIST has maximal overlap with Yeo network 0 (0.9874152952565344)\n",
      "roi 2 in MIST has maximal overlap with Yeo network 4 (0.4976190476190476)\n",
      "roi 3 in MIST has maximal overlap with Yeo network 0 (0.7972222222222223)\n",
      "roi 4 in MIST has maximal overlap with Yeo network 0 (1.0)\n",
      "roi 5 in MIST has maximal overlap with Yeo network 0 (1.0)\n",
      "roi 6 in MIST has maximal overlap with Yeo network 0 (0.9946452476572959)\n",
      "roi 7 in MIST has maximal overlap with Yeo network 4 (0.5272277227722773)\n",
      "roi 8 in MIST has maximal overlap with Yeo network 0 (0.775438596491228)\n",
      "roi 9 in MIST has maximal overlap with Yeo network 5 (0.701195219123506)\n",
      "roi 10 in MIST has maximal overlap with Yeo network 6 (0.478494623655914)\n",
      "roi 11 in MIST has maximal overlap with Yeo network 0 (1.0)\n",
      "roi 12 in MIST has maximal overlap with Yeo network 0 (0.6822594880847308)\n",
      "roi 13 in MIST has maximal overlap with Yeo network 6 (0.5584045584045584)\n",
      "roi 14 in MIST has maximal overlap with Yeo network 2 (0.6506024096385542)\n",
      "roi 15 in MIST has maximal overlap with Yeo network 0 (1.0)\n",
      "roi 16 in MIST has maximal overlap with Yeo network 1 (0.7112676056338029)\n",
      "roi 17 in MIST has maximal overlap with Yeo network 0 (0.9984326018808778)\n",
      "roi 18 in MIST has maximal overlap with Yeo network 2 (0.5734720416124838)\n",
      "roi 19 in MIST has maximal overlap with Yeo network 7 (0.7448453608247423)\n",
      "roi 20 in MIST has maximal overlap with Yeo network 7 (0.5870165745856354)\n",
      "roi 21 in MIST has maximal overlap with Yeo network 0 (0.3455056179775281)\n",
      "roi 22 in MIST has maximal overlap with Yeo network 5 (0.5744456177402323)\n",
      "roi 23 in MIST has maximal overlap with Yeo network 4 (0.5250320924261874)\n",
      "roi 24 in MIST has maximal overlap with Yeo network 7 (0.7788461538461539)\n",
      "roi 25 in MIST has maximal overlap with Yeo network 0 (0.8330223880597015)\n",
      "roi 26 in MIST has maximal overlap with Yeo network 3 (0.5379310344827586)\n",
      "roi 27 in MIST has maximal overlap with Yeo network 1 (0.7771260997067448)\n",
      "roi 28 in MIST has maximal overlap with Yeo network 3 (0.32563025210084034)\n",
      "roi 29 in MIST has maximal overlap with Yeo network 0 (0.991166077738516)\n",
      "roi 30 in MIST has maximal overlap with Yeo network 1 (0.7547445255474453)\n",
      "roi 31 in MIST has maximal overlap with Yeo network 7 (0.5411585365853658)\n",
      "roi 32 in MIST has maximal overlap with Yeo network 4 (0.4047936085219707)\n",
      "roi 33 in MIST has maximal overlap with Yeo network 1 (0.8169761273209549)\n",
      "roi 34 in MIST has maximal overlap with Yeo network 7 (0.6925465838509317)\n",
      "roi 35 in MIST has maximal overlap with Yeo network 1 (0.7527093596059113)\n",
      "roi 36 in MIST has maximal overlap with Yeo network 5 (0.39387956564659427)\n",
      "roi 37 in MIST has maximal overlap with Yeo network 3 (0.4619815668202765)\n",
      "roi 38 in MIST has maximal overlap with Yeo network 1 (0.8185595567867036)\n",
      "roi 39 in MIST has maximal overlap with Yeo network 6 (0.40025740025740025)\n",
      "roi 40 in MIST has maximal overlap with Yeo network 3 (0.508937960042061)\n",
      "roi 41 in MIST has maximal overlap with Yeo network 5 (0.5701598579040853)\n",
      "roi 42 in MIST has maximal overlap with Yeo network 7 (0.5789473684210527)\n",
      "roi 43 in MIST has maximal overlap with Yeo network 1 (0.6806083650190115)\n",
      "roi 44 in MIST has maximal overlap with Yeo network 0 (1.0)\n",
      "roi 45 in MIST has maximal overlap with Yeo network 2 (0.644250168123739)\n",
      "roi 46 in MIST has maximal overlap with Yeo network 2 (0.6272155517438537)\n",
      "roi 47 in MIST has maximal overlap with Yeo network 3 (0.4207171314741036)\n",
      "roi 48 in MIST has maximal overlap with Yeo network 0 (1.0)\n",
      "roi 49 in MIST has maximal overlap with Yeo network 6 (0.673728813559322)\n",
      "roi 50 in MIST has maximal overlap with Yeo network 7 (0.5149321266968325)\n",
      "roi 51 in MIST has maximal overlap with Yeo network 4 (0.530751708428246)\n",
      "roi 52 in MIST has maximal overlap with Yeo network 7 (0.7681159420289855)\n",
      "roi 53 in MIST has maximal overlap with Yeo network 6 (0.49502487562189057)\n",
      "roi 54 in MIST has maximal overlap with Yeo network 6 (0.5629477993858751)\n",
      "roi 55 in MIST has maximal overlap with Yeo network 6 (0.44316730523627074)\n",
      "roi 56 in MIST has maximal overlap with Yeo network 2 (0.6871345029239766)\n",
      "roi 57 in MIST has maximal overlap with Yeo network 3 (0.5098039215686274)\n",
      "roi 58 in MIST has maximal overlap with Yeo network 7 (0.31665062560153995)\n",
      "roi 59 in MIST has maximal overlap with Yeo network 1 (0.7443389335281227)\n",
      "roi 60 in MIST has maximal overlap with Yeo network 4 (0.42987111448066717)\n",
      "roi 61 in MIST has maximal overlap with Yeo network 7 (0.6899841017488076)\n",
      "roi 62 in MIST has maximal overlap with Yeo network 2 (0.46511627906976744)\n",
      "roi 63 in MIST has maximal overlap with Yeo network 6 (0.36113744075829385)\n",
      "roi 64 in MIST has maximal overlap with Yeo network 7 (0.5771683673469388)\n"
     ]
    }
   ],
   "source": [
    "for ind, roi in enumerate(np.unique(mist_vec)):\n",
    "    print(f'roi {int(roi)} in MIST has maximal overlap with Yeo network {match[ind]} ({best_overlap[ind]})')"
   ]
  }
 ],
 "metadata": {
  "kernelspec": {
   "display_name": "Python 3 (ipykernel)",
   "language": "python",
   "name": "python3"
  },
  "language_info": {
   "codemirror_mode": {
    "name": "ipython",
    "version": 3
   },
   "file_extension": ".py",
   "mimetype": "text/x-python",
   "name": "python",
   "nbconvert_exporter": "python",
   "pygments_lexer": "ipython3",
   "version": "3.8.10"
  }
 },
 "nbformat": 4,
 "nbformat_minor": 5
}
