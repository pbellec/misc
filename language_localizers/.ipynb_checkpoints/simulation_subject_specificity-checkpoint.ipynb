{
 "cells": [
  {
   "cell_type": "code",
   "execution_count": 10,
   "id": "9ff32989",
   "metadata": {},
   "outputs": [],
   "source": [
    "from numpy import corrcoef\n",
    "import numpy as np\n",
    "import matplotlib.pyplot as plt"
   ]
  },
  {
   "cell_type": "markdown",
   "id": "659a981e",
   "metadata": {},
   "source": [
    "Let's start with a function which simulates replicated brain maps, within as well as between subject. The following function uses a mixture model of Gaussians. The simulations just consist of random gaussian noise. We add a common (random) group map, then a subject-specific (random) map to all replications within a subject. "
   ]
  },
  {
   "cell_type": "code",
   "execution_count": 12,
   "id": "2c34e6fc",
   "metadata": {},
   "outputs": [],
   "source": [
    "def simu_maps(n_voxel, n_replication, n_subject, within, between):\n",
    "    \"\"\" Simulate replication of brain maps within and between subjects\n",
    "        parameters: \n",
    "            n_voxel: the number of voxel value in a map\n",
    "            n_replication: the number of map replication per subject\n",
    "            n_subject: the number of subjects\n",
    "            within: the strength of the within-subject effect\n",
    "            between: the strength of the between-subject effect \n",
    "            \n",
    "        Returns: y (the maps), gt (ground truth partition into subjects)\n",
    "    \"\"\"\n",
    "    noise = np.random.normal(size=[n_replication , n_voxel]) # Some Gaussian random noise\n",
    "    gt = np.zeros(shape=[n_replication,1]) # Ground truth clusters\n",
    "    y = np.zeros(noise.shape) # The final time series\n",
    "    ind = np.linspace(0,n_replication,n_subject+1,dtype=\"int\") # The indices for each cluster\n",
    "    map_group = np.random.normal(size=[1, n_voxel]) # a group map common to all subjects\n",
    "    for ss in range(0, n_subject): # loop over subjects\n",
    "        cluster = range(ind[ss], ind[ss + 1]) # replications for that particular subject\n",
    "        map_subject = np.random.normal(size=[1, n_voxel]) # subject-specific map \n",
    "        y[cluster, :] = noise[cluster, :] + between * np.repeat(map_group, ind[ss + 1] - ind[ss],0) + within * np.repeat(map_subject, ind[ss + 1] - ind[ss],0) # y = noise + a * signal\n",
    "        gt[cluster] = ss # Adding the label for cluster in ground truth\n",
    "    return y, gt"
   ]
  },
  {
   "cell_type": "code",
   "execution_count": 18,
   "id": "941e292c",
   "metadata": {},
   "outputs": [],
   "source": [
    "y, gt = simu_maps(n_voxel=100, n_replication=40, n_subject=4, within=1, between=0.5)"
   ]
  },
  {
   "cell_type": "code",
   "execution_count": 19,
   "id": "78ca51e2",
   "metadata": {},
   "outputs": [
    {
     "data": {
      "text/plain": [
       "(40, 100)"
      ]
     },
     "execution_count": 19,
     "metadata": {},
     "output_type": "execute_result"
    },
    {
     "data": {
      "image/png": "[encoded data removed]",
      "text/plain": [
       "<Figure size 288x288 with 2 Axes>"
      ]
     },
     "metadata": {
      "needs_background": "light"
     },
     "output_type": "display_data"
    }
   ],
   "source": [
    "R = corrcoef(y)\n",
    "plt.matshow(np.abs(R))\n",
    "plt.colorbar()\n",
    "y.shape"
   ]
  }
 ],
 "metadata": {
  "kernelspec": {
   "display_name": "Python 3",
   "language": "python",
   "name": "python3"
  },
  "language_info": {
   "codemirror_mode": {
    "name": "ipython",
    "version": 3
   },
   "file_extension": ".py",
   "mimetype": "text/x-python",
   "name": "python",
   "nbconvert_exporter": "python",
   "pygments_lexer": "ipython3",
   "version": "3.8.10"
  }
 },
 "nbformat": 4,
 "nbformat_minor": 5
}
