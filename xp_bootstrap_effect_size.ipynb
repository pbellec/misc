{
 "cells": [
  {
   "cell_type": "code",
   "execution_count": 1,
   "metadata": {},
   "outputs": [],
   "source": [
    "import numpy as np\n",
    "import matplotlib.pyplot as plt"
   ]
  },
  {
   "cell_type": "code",
   "execution_count": 22,
   "metadata": {},
   "outputs": [],
   "source": [
    "def simu_samp(n_samp=40, n_features=100, d=0.5):\n",
    "    # Simulate some Gaussian data with controlled deviation from 0\n",
    "    return np.random.normal(d, 1, [n_samp, n_features])        \n",
    "\n",
    "def generate_beta(samp):\n",
    "    # Generate beta estimates (here a simple mean)\n",
    "    return np.mean(samp, axis=0)\n",
    "    \n",
    "def percentile_beta(beta, percentile=0.9):\n",
    "    # Extract a given percentile of the distribution of beta estimates \n",
    "    # across features\n",
    "    beta = np.sort(beta)\n",
    "    beta_percentile = beta[int(np.ceil(percentile * beta.shape[0]))]\n",
    "    return beta_percentile\n",
    "\n",
    "def bootstrap_samp(samp):\n",
    "    # Bootstrap Gaussian data across samples\n",
    "    idx = range(samp.shape[0])\n",
    "    resample_idx = np.random.choice(idx, len(idx))\n",
    "    return samp[resample_idx, :]"
   ]
  },
  {
   "cell_type": "markdown",
   "metadata": {},
   "source": [
    "# Original vs bootstrap betas \n",
    "\n",
    "Here we simulate Gaussian data, with a non-zero mean and unit variance. The number of samples (`n_samp`) would correspond to the number of subjects (from, say, 40 to a few thousands). This simulation is repeated for a number of features (`n_features`), which would correspond to the different functional connectivity measures. We compare the distribution of sample mean in the original sample to the mean generated from bootstrap samples. We notice that the bootstrap means have more variance. This is because each bootstrap sample re-uses only a substet of the original observations (which size varies across subsets). So in practice, we are generating sample means with a smaller sample size. "
   ]
  },
  {
   "cell_type": "code",
   "execution_count": 15,
   "metadata": {},
   "outputs": [
    {
     "data": {
      "image/png": "[encoded data removed]",
      "text/plain": [
       "<Figure size 432x288 with 1 Axes>"
      ]
     },
     "metadata": {
      "needs_background": "light"
     },
     "output_type": "display_data"
    }
   ],
   "source": [
    "# Simulation parameters\n",
    "n_samp = 100\n",
    "n_features = 2000\n",
    "d = 0.5\n",
    "\n",
    "# Generate original beta values\n",
    "samp = simu_samp(n_samp, n_features, d)\n",
    "beta = generate_beta(samp)\n",
    "\n",
    "# Generate replicated bootstrap values \n",
    "samp_bootstrap = bootstrap_samp(samp)\n",
    "beta_bootstrap = generate_beta(samp_bootstrap)\n",
    "\n",
    "# Show histogram of original vs bootstrap beta values\n",
    "plt.style.use('seaborn-deep')\n",
    "plt.hist([beta, beta_bootstrap], label=['original', 'bootstrap'], bins=30)\n",
    "plt.legend(loc='upper right')\n",
    "plt.show()"
   ]
  },
  {
   "cell_type": "markdown",
   "metadata": {},
   "source": [
    "# Top 10th percentile of effect estimates\n",
    "We now suppose we are going to sort the features and only retain the top 10th percentile of the means. We are going to repeat many simulations like the one above to get a distribution on the 10th-percentiles for the original samples vs the bootstrap samples. As the bootstrap distribution is wider (more variance), we can observe that the 10th percentile in the bootstrap distribution is almost systematically larger than in the original sample. "
   ]
  },
  {
   "cell_type": "code",
   "execution_count": 19,
   "metadata": {},
   "outputs": [
    {
     "data": {
      "image/png": "[encoded data removed]",
      "text/plain": [
       "<Figure size 432x288 with 1 Axes>"
      ]
     },
     "metadata": {
      "needs_background": "light"
     },
     "output_type": "display_data"
    }
   ],
   "source": [
    "n_simu = 100\n",
    "n_samp = 400\n",
    "n_features = 100\n",
    "d = 0.5\n",
    "beta_90 = []\n",
    "beta_bootstrap_90 = []\n",
    "\n",
    "# Repeat simulations and retain top 10th percentile of betas \n",
    "for simu in range(n_simu):\n",
    "    samp = simu_samp(n_samp, n_features, d)\n",
    "    beta_90.append(percentile_beta(generate_beta(samp)))\n",
    "    beta_bootstrap_90.append(percentile_beta(generate_beta(bootstrap_samp(samp))))\n",
    "\n",
    "# Show histogram of original vs bootstrap beta values\n",
    "plt.style.use('seaborn-deep')\n",
    "plt.hist([beta_90, beta_bootstrap_90], label=['original', 'bootstrap'], bins=30)\n",
    "plt.legend(loc='upper right')\n",
    "plt.show()"
   ]
  }
 ],
 "metadata": {
  "kernelspec": {
   "display_name": "Python 3",
   "language": "python",
   "name": "python3"
  },
  "language_info": {
   "codemirror_mode": {
    "name": "ipython",
    "version": 3
   },
   "file_extension": ".py",
   "mimetype": "text/x-python",
   "name": "python",
   "nbconvert_exporter": "python",
   "pygments_lexer": "ipython3",
   "version": "3.8.10"
  }
 },
 "nbformat": 4,
 "nbformat_minor": 4
}
